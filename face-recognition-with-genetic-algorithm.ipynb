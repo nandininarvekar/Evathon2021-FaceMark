{
  "cells": [
    {
      "cell_type": "code",
      "execution_count": null,
      "id": "3660a345",
      "metadata": {
        "id": "3660a345",
        "outputId": "ff71a222-267a-4fda-bd58-b92de5187290"
      },
      "outputs": [
        {
          "data": {
            "text/plain": [
              "'import numpy as np\\nimport random\\nimport tensorflow as tf\\nfrom tensorflow import keras\\nfrom keras.preprocessing.image import ImageDataGenerator\\nfrom keras.callbacks import History \\n\\nconvLayer =4\\nmaxFilters =100\\nmaxFiltersize =5\\npopulation_size = 11\\n\\n\\nno_of_filtersAsize1 =np.array([96,81,4,32,2,2,2,2])\\nno_of_filtersAsize2 =np.array([23,27,9,54,3,3,2,4])\\n\\npopulation =np.array([no_of_filtersAsize1,no_of_filtersAsize2])\\ndef fitness_function(population):\\n    train_datagen = ImageDataGenerator(rescale = 1./255,\\n                                       shear_range = 0.2,\\n                                       zoom_range = 0.2,\\n                                       horizontal_flip = True)\\n    training_set = train_datagen.flow_from_directory(\\'Train\\',\\n                                                     target_size = (64, 64),\\n                                                     batch_size = 32,\\n                                                     class_mode = \\'categorical\\')\\n    test_datagen = ImageDataGenerator(rescale = 1./255)\\n    test_set = test_datagen.flow_from_directory(\\'test\\',\\n                                                        target_size = (64, 64),\\n                                                        batch_size = 32,\\n                          class_mode = \\'categorical\\')\\n\\n\\n    callbacks = CustomCallback()\\n    class CustomCallback(keras.callbacks.Callback):\\n        def on_epoch_end(self, epoch,logs={}):\\n            print(logs.get(\\'loss\\'))\\n\\n                    \\n\\n    cnn = tf.keras.models.Sequential()\\n    #Layer 1\\n    cnn.add(tf.keras.layers.Conv2D(filters=population[i][0], kernel_size=(population[i][4],population[i][4]), activation=\\'relu\\', input_shape=[64, 64, 3]))\\n    cnn.add(tf.keras.layers.MaxPool2D(pool_size=2, strides=2))\\n    #Layer 2\\n    cnn.add(tf.keras.layers.Conv2D(filters=population[i][1], kernel_size=(population[i][5],population[i][5]), activation=\\'relu\\'))\\n    cnn.add(tf.keras.layers.MaxPool2D(pool_size=2, strides=2))\\n\\n    #Layer 3\\n    cnn.add(tf.keras.layers.Conv2D(filters=population[i][2], kernel_size=(population[i][6],population[i][6]), activation=\\'relu\\'))\\n    cnn.add(tf.keras.layers.MaxPool2D(pool_size=2, strides=2))\\n    #Layer 4\\n    cnn.add(tf.keras.layers.Conv2D(filters=population[i][3], kernel_size=(population[i][7],population[i][7]), activation=\\'relu\\'))\\n    cnn.add(tf.keras.layers.MaxPool2D(pool_size=2, strides=2))\\n\\n\\n    cnn.add(tf.keras.layers.Flatten())\\n    cnn.add(tf.keras.layers.Dense(units=128, activation=\\'relu\\'))\\n    cnn.add(tf.keras.layers.Dense(units=3, activation=\\'softmax\\'))\\n    cnn.compile(optimizer = \\'adam\\', loss = \\'categorical_crossentropy\\', metrics = [\\'accuracy\\'])\\n    #cnn.fit(x = training_set, validation_data = test_set, epochs =3,callbacks =[callbacks])\\n    \\n    def model_crossover(p1, p2):\\n   \\n    if(parent1[\\'loss\\'][-1] < parent2[\\'loss\\'][-1]):\\n        print(\"parent1\")\\n    else:\\n        print(\"parent2\")\\n    return a[0:p] + b[p:], b[0:p] + a[p:]\\n    \\n    def selection(p, child, k=3):\\n    # first random selection\\n    selection_ix = randint(len(pop))\\n    for ix in randint(0, len(pop), k-1):\\n        # check if better (e.g. perform a tournament)\\n        if scores[ix] < scores[selection_ix]:\\n            selection_ix = ix\\n    return pop[selection_ix]\\n\\n'"
            ]
          },
          "execution_count": 1,
          "metadata": {},
          "output_type": "execute_result"
        }
      ],
      "source": [
        "\"\"\"import numpy as np\n",
        "import random\n",
        "import tensorflow as tf\n",
        "from tensorflow import keras\n",
        "from keras.preprocessing.image import ImageDataGenerator\n",
        "from keras.callbacks import History \n",
        "\n",
        "convLayer =4\n",
        "maxFilters =100\n",
        "maxFiltersize =5\n",
        "population_size = 11\n",
        "\n",
        "\n",
        "no_of_filtersAsize1 =np.array([96,81,4,32,2,2,2,2])\n",
        "no_of_filtersAsize2 =np.array([23,27,9,54,3,3,2,4])\n",
        "\n",
        "population =np.array([no_of_filtersAsize1,no_of_filtersAsize2])\n",
        "def fitness_function(population):\n",
        "    train_datagen = ImageDataGenerator(rescale = 1./255,\n",
        "                                       shear_range = 0.2,\n",
        "                                       zoom_range = 0.2,\n",
        "                                       horizontal_flip = True)\n",
        "    training_set = train_datagen.flow_from_directory('Train',\n",
        "                                                     target_size = (64, 64),\n",
        "                                                     batch_size = 32,\n",
        "                                                     class_mode = 'categorical')\n",
        "    test_datagen = ImageDataGenerator(rescale = 1./255)\n",
        "    test_set = test_datagen.flow_from_directory('test',\n",
        "                                                        target_size = (64, 64),\n",
        "                                                        batch_size = 32,\n",
        "                          class_mode = 'categorical')\n",
        "\n",
        "\n",
        "    callbacks = CustomCallback()\n",
        "    class CustomCallback(keras.callbacks.Callback):\n",
        "        def on_epoch_end(self, epoch,logs={}):\n",
        "            print(logs.get('loss'))\n",
        "\n",
        "                    \n",
        "\n",
        "    cnn = tf.keras.models.Sequential()\n",
        "    #Layer 1\n",
        "    cnn.add(tf.keras.layers.Conv2D(filters=population[i][0], kernel_size=(population[i][4],population[i][4]), activation='relu', input_shape=[64, 64, 3]))\n",
        "    cnn.add(tf.keras.layers.MaxPool2D(pool_size=2, strides=2))\n",
        "    #Layer 2\n",
        "    cnn.add(tf.keras.layers.Conv2D(filters=population[i][1], kernel_size=(population[i][5],population[i][5]), activation='relu'))\n",
        "    cnn.add(tf.keras.layers.MaxPool2D(pool_size=2, strides=2))\n",
        "\n",
        "    #Layer 3\n",
        "    cnn.add(tf.keras.layers.Conv2D(filters=population[i][2], kernel_size=(population[i][6],population[i][6]), activation='relu'))\n",
        "    cnn.add(tf.keras.layers.MaxPool2D(pool_size=2, strides=2))\n",
        "    #Layer 4\n",
        "    cnn.add(tf.keras.layers.Conv2D(filters=population[i][3], kernel_size=(population[i][7],population[i][7]), activation='relu'))\n",
        "    cnn.add(tf.keras.layers.MaxPool2D(pool_size=2, strides=2))\n",
        "\n",
        "\n",
        "    cnn.add(tf.keras.layers.Flatten())\n",
        "    cnn.add(tf.keras.layers.Dense(units=128, activation='relu'))\n",
        "    cnn.add(tf.keras.layers.Dense(units=3, activation='softmax'))\n",
        "    cnn.compile(optimizer = 'adam', loss = 'categorical_crossentropy', metrics = ['accuracy'])\n",
        "    #cnn.fit(x = training_set, validation_data = test_set, epochs =3,callbacks =[callbacks])\n",
        "    \n",
        "    def model_crossover(p1, p2):\n",
        "   \n",
        "    if(parent1['loss'][-1] < parent2['loss'][-1]):\n",
        "        print(\"parent1\")\n",
        "    else:\n",
        "        print(\"parent2\")\n",
        "    return a[0:p] + b[p:], b[0:p] + a[p:]\n",
        "    \n",
        "    def selection(p, child, k=3):\n",
        "    # first random selection\n",
        "    selection_ix = randint(len(pop))\n",
        "    for ix in randint(0, len(pop), k-1):\n",
        "        # check if better (e.g. perform a tournament)\n",
        "        if scores[ix] < scores[selection_ix]:\n",
        "            selection_ix = ix\n",
        "    return pop[selection_ix]\n",
        "\n",
        "\"\"\"    \n"
      ]
    },
    {
      "cell_type": "code",
      "execution_count": null,
      "id": "729942c4",
      "metadata": {
        "id": "729942c4"
      },
      "outputs": [],
      "source": [
        "import numpy as np\n",
        "import random\n",
        "import tensorflow as tf\n",
        "from tensorflow import keras\n",
        "from keras.preprocessing.image import ImageDataGenerator\n",
        "from keras.callbacks import History \n",
        "import matplotlib.pyplot as plt\n",
        "import pandas as pd\n",
        "convLayer =3\n",
        "maxFilters =100\n",
        "maxFiltersize =5\n",
        "population_size = 11\n",
        "Cost_Value =[]\n",
        "\n",
        "n_f =np.random.randint(1,100, size=(5, 4))\n",
        "s_f =np.random.randint(1,5, size=(5, 4))\n",
        "\n",
        "\n",
        "#number_of_filters = random.sample(range(1,100 ), 4)\n",
        "#size_of_filters = random.sample(range(1,5 ), 4)\n",
        "#chromosome=[[number_of_filters,size_of_filters]]\n",
        "#chromosome =[]\n",
        "#for j in range(0,3):\n",
        "#    chromosome.append([random.sample(range(1,100 ), 4),random.sample(range(1,5 ), 4)])\n",
        "\n",
        "\n",
        "\n",
        "def fitness(n_f ,s_f):\n",
        "        n_chromosome =len(n_f)\n",
        "        train_datagen = ImageDataGenerator(rescale = 1./255,shear_range = 0.2,zoom_range = 0.2,horizontal_flip = True)\n",
        "        training_set = train_datagen.flow_from_directory('Train',target_size = (64, 64), batch_size = 32,class_mode = 'categorical')\n",
        "        test_datagen = ImageDataGenerator(rescale = 1./255)\n",
        "        test_set = test_datagen.flow_from_directory('test',target_size = (64, 64),batch_size = 32,class_mode = 'categorical')\n",
        "        for  i in range(0,n_chromosome):\n",
        "       \n",
        "                cnn = tf.keras.models.Sequential()\n",
        "                #Layer 1\n",
        "                cnn.add(tf.keras.layers.Conv2D(filters=n_f[i][0], kernel_size=(s_f[i][0],s_f[i][0]), activation='relu', input_shape=[64, 64, 3]))\n",
        "                cnn.add(tf.keras.layers.MaxPool2D(pool_size=2, strides=2))\n",
        "                #Layer 2\n",
        "                cnn.add(tf.keras.layers.Conv2D(filters=n_f[i][1], kernel_size=(s_f[i][1],s_f[i][1]), activation='relu'))\n",
        "                cnn.add(tf.keras.layers.MaxPool2D(pool_size=2, strides=2))\n",
        "\n",
        "                #Layer 3\n",
        "                cnn.add(tf.keras.layers.Conv2D(filters=n_f[i][2], kernel_size=(s_f[i][2],s_f[i][2]), activation='relu'))\n",
        "                cnn.add(tf.keras.layers.MaxPool2D(pool_size=2, strides=2))\n",
        "                #Layer 4\n",
        "                cnn.add(tf.keras.layers.Conv2D(filters=n_f[i][3], kernel_size=(s_f[i][3],s_f[i][3]), activation='relu'))\n",
        "                cnn.add(tf.keras.layers.MaxPool2D(pool_size=2, strides=2))\n",
        "\n",
        "                cnn.add(tf.keras.layers.Flatten())\n",
        "                cnn.add(tf.keras.layers.Dense(units=128, activation='relu'))\n",
        "                cnn.add(tf.keras.layers.Dense(units=3, activation='softmax'))\n",
        "                cnn.compile(optimizer = 'adam', loss = 'mean_absolute_percentage_error', metrics = ['accuracy'])\n",
        "                cnn.fit(x = training_set, epochs =3)    \n",
        "                costV = cnn.evaluate(test_set)\n",
        "                #print(\"Accuracy : %.2f%%\" %(costV[1]*100))\n",
        "                accuracy =costV[1]*100\n",
        "                score = 100 - accuracy    \n",
        "                Cost_Value.append(score)\n",
        "        print(\"cost_value:\",Cost_Value)\n",
        "#Population =pd.DataFrame([[number_of_filters,size_of_filters]],columns =['No. of filters', 'Size of Filters'])\n",
        "\n",
        "#fitness function we use the configuration provided by the chromosome ,CNN is trained and tested over test data set.\n",
        "#Fitness functon calculates the classification error\n",
        "#Cost_value = 100-accuracy percentage"
      ]
    },
    {
      "cell_type": "code",
      "execution_count": null,
      "id": "0149ca52",
      "metadata": {
        "id": "0149ca52",
        "outputId": "3c0ac1ee-4474-40be-e5a8-e00ec823ec31"
      },
      "outputs": [
        {
          "name": "stdout",
          "output_type": "stream",
          "text": [
            "[[68 50 82 14]\n",
            " [13 88 28 72]\n",
            " [41 15 92 97]\n",
            " [50 27 76 66]\n",
            " [33 68 58 66]] [[4 3 1 2]\n",
            " [1 2 1 3]\n",
            " [4 3 3 3]\n",
            " [2 1 3 1]\n",
            " [3 3 3 2]]\n",
            "Found 240 images belonging to 3 classes.\n",
            "Found 60 images belonging to 3 classes.\n",
            "Epoch 1/3\n",
            "8/8 [==============================] - 2s 192ms/step - loss: 218849824.0000 - accuracy: 0.3583\n",
            "Epoch 2/3\n",
            "8/8 [==============================] - 1s 174ms/step - loss: 183726144.0000 - accuracy: 0.4125\n",
            "Epoch 3/3\n",
            "8/8 [==============================] - 1s 164ms/step - loss: 115112056.0000 - accuracy: 0.7875\n",
            "2/2 [==============================] - 0s 49ms/step - loss: 27958382.0000 - accuracy: 0.9667\n",
            "Epoch 1/3\n",
            "8/8 [==============================] - 1s 101ms/step - loss: 219613920.0000 - accuracy: 0.3333\n",
            "Epoch 2/3\n",
            "8/8 [==============================] - 1s 105ms/step - loss: 205281536.0000 - accuracy: 0.3333\n",
            "Epoch 3/3\n",
            "8/8 [==============================] - 1s 95ms/step - loss: 188994528.0000 - accuracy: 0.3792\n",
            "2/2 [==============================] - 0s 44ms/step - loss: 166171344.0000 - accuracy: 0.6500\n",
            "Epoch 1/3\n",
            "8/8 [==============================] - 1s 123ms/step - loss: 211688208.0000 - accuracy: 0.3208\n",
            "Epoch 2/3\n",
            "8/8 [==============================] - 1s 124ms/step - loss: 155973888.0000 - accuracy: 0.6083\n",
            "Epoch 3/3\n",
            "8/8 [==============================] - 1s 127ms/step - loss: 36832628.0000 - accuracy: 0.9708\n",
            "2/2 [==============================] - 0s 42ms/step - loss: 17127722.0000 - accuracy: 0.9667\n",
            "Epoch 1/3\n",
            "8/8 [==============================] - 1s 115ms/step - loss: 215775760.0000 - accuracy: 0.5625\n",
            "Epoch 2/3\n",
            "8/8 [==============================] - 1s 126ms/step - loss: 189648944.0000 - accuracy: 0.3458\n",
            "Epoch 3/3\n",
            "8/8 [==============================] - 1s 117ms/step - loss: 132524816.0000 - accuracy: 0.7458\n",
            "2/2 [==============================] - 0s 46ms/step - loss: 59198848.0000 - accuracy: 1.0000\n",
            "Epoch 1/3\n",
            "8/8 [==============================] - 2s 135ms/step - loss: 214918032.0000 - accuracy: 0.3333\n",
            "Epoch 2/3\n",
            "8/8 [==============================] - 1s 148ms/step - loss: 193734848.0000 - accuracy: 0.3333\n",
            "Epoch 3/3\n",
            "8/8 [==============================] - 1s 136ms/step - loss: 156989888.0000 - accuracy: 0.5250\n",
            "WARNING:tensorflow:5 out of the last 9 calls to <function Model.make_test_function.<locals>.test_function at 0x000002B9A5F4BB80> triggered tf.function retracing. Tracing is expensive and the excessive number of tracings could be due to (1) creating @tf.function repeatedly in a loop, (2) passing tensors with different shapes, (3) passing Python objects instead of tensors. For (1), please define your @tf.function outside of the loop. For (2), @tf.function has experimental_relax_shapes=True option that relaxes argument shapes that can avoid unnecessary retracing. For (3), please refer to https://www.tensorflow.org/guide/function#controlling_retracing and https://www.tensorflow.org/api_docs/python/tf/function for  more details.\n",
            "2/2 [==============================] - 0s 53ms/step - loss: 142223136.0000 - accuracy: 0.6333\n",
            "cost_value: [3.333336114883423, 35.00000238418579, 3.333336114883423, 0.0, 36.666667461395264]\n",
            "Fitness: [3.333336114883423, 35.00000238418579, 3.333336114883423, 0.0, 36.666667461395264]\n"
          ]
        },
        {
          "data": {
            "text/plain": [
              "[<matplotlib.lines.Line2D at 0x2b9a4de0340>]"
            ]
          },
          "execution_count": 3,
          "metadata": {},
          "output_type": "execute_result"
        },
        {
          "data": {
            "image/png": "[encoded data removed]",
            "text/plain": [
              "<Figure size 432x288 with 1 Axes>"
            ]
          },
          "metadata": {
            "needs_background": "light"
          },
          "output_type": "display_data"
        }
      ],
      "source": [
        "print(n_f,s_f)\n",
        "fitness(n_f,s_f)\n",
        "print(\"Fitness:\",Cost_Value)  \n",
        "plt.plot(Cost_Value)"
      ]
    },
    {
      "cell_type": "code",
      "execution_count": null,
      "id": "32825cf6",
      "metadata": {
        "id": "32825cf6"
      },
      "outputs": [],
      "source": [
        "\n",
        "#selection in roulette is directly proprtional to fitness\n",
        "#here we have chromosome interms of real numbers\n",
        "#random index generator ,say (1,3)\n",
        "child_nf = []\n",
        "child_sf = []\n",
        "n_f =np.random.randint(1,100, size=(5, 4))\n",
        "s_f =np.random.randint(1,5, size=(5, 4))\n",
        "def crossover(c_index):\n",
        "    \n",
        "    #shuffle to choose the chromosome\n",
        "    random.shuffle(c_index)                  #[1, 2, 0]  \n",
        "    print(\"c_index:\",c_index)\n",
        "   \n",
        "    \n",
        "    for i in range(0,len(c_index)):\n",
        "        #shuffle to choose the index of the filter\n",
        "        index_e =np.arange(4)                     #[2 1 3 0]\n",
        "        random.shuffle(index_e)\n",
        "        print(\"index_e:\",index_e)\n",
        "       \n",
        "        c1=[None,None,None,None]\n",
        "        c2=[None,None,None,None]\n",
        "        #1st chromosome\n",
        "          \n",
        "        \n",
        "        if(index_e[0]>index_e[1]):\n",
        "            for j in range(index_e[1],index_e[0]+1):\n",
        "               # print(j)\n",
        "                del c1[j]\n",
        "                c1.insert(j,n_f[c_index[i]][j]) \n",
        "                del c2[j]\n",
        "                c2.insert(j,s_f[c_index[i]][j]) \n",
        "                #print(\"c1:\",c1)\n",
        "        \n",
        "        if(index_e[1]>index_e[0]): \n",
        "            for j in range(index_e[0],index_e[1]+1):\n",
        "                #print(j)\n",
        "                del c1[j]\n",
        "                c1.insert(j,n_f[c_index[i]][j])\n",
        "                del c2[j]\n",
        "                c2.insert(j,s_f[c_index[i]][j]) \n",
        "                #print(\"c1:\",c1)\n",
        "                \n",
        "        print(\"chromosome2\")\n",
        "        if i==len(c_index)-1:\n",
        "            for count ,e in enumerate(c1):\n",
        "                if e == None:\n",
        "                    #print(count)\n",
        "                    c1.remove(None)\n",
        "                    c1.insert(count,n_f[c_index[0]][count])\n",
        "                    c2.remove(None)\n",
        "                    c2.insert(count,s_f[c_index[0]][count])\n",
        "               # print(\"Final c1:\",c1) \n",
        "            child_nf.append(c1)\n",
        "            child_sf.append(c2)\n",
        "        else:\n",
        "            for count ,e in enumerate(c1):\n",
        "                if e == None:\n",
        "                    #print(count)\n",
        "                    c1.remove(None)\n",
        "                    c1.insert(count,n_f[c_index[i+1]][count])\n",
        "                    c2.remove(None)\n",
        "                    c2.insert(count,s_f[c_index[i+1]][count])\n",
        "               # print(\"Final c1:\",c1) \n",
        "            child_nf.append(c1)\n",
        "            child_sf.append(c2)\n",
        "    print(\"crossover for number of filters:\",child_nf)\n",
        "    print(\"crossover for size of filters:\",child_sf)"
      ]
    },
    {
      "cell_type": "code",
      "execution_count": null,
      "id": "7ec3ed31",
      "metadata": {
        "id": "7ec3ed31",
        "outputId": "66e49366-0ab3-4c09-8150-11dd2114f33b"
      },
      "outputs": [
        {
          "name": "stdout",
          "output_type": "stream",
          "text": [
            "SELECTION:\n"
          ]
        }
      ],
      "source": [
        "print(\"SELECTION:\")\n",
        "par=[]\n",
        "c_index=[]\n",
        "def select_parents(CV):\n",
        "    n=len(CV)\n",
        "    l = np.arange(n)\n",
        "    random.shuffle(l)\n",
        "    for i in range(0,n-1) :\n",
        "        candidate1= CV[l[i]]\n",
        "        candidate2= CV[l[i+1]]\n",
        "   \n",
        "        if(candidate1 < candidate2):\n",
        "            par.append(candidate1)\n",
        "            c_index.append(l[i])\n",
        "        if(candidate2 < candidate1):\n",
        "            par.append(candidate2)\n",
        "            c_index.append(l[i])\n",
        "    can1=CV[l[0]]    \n",
        "    can2=CV[l[len(l)-1]]    \n",
        "    if(can1 < can2):\n",
        "        par.append(can1)\n",
        "        c_index.append(l[0])\n",
        "    if(can2 < can1):\n",
        "        par.append(can2)\n",
        "        c_index.append(l[len(l)-1])\n",
        "    print(par)\n",
        "    print(c_index)\n",
        "    \n",
        "\n",
        "               "
      ]
    },
    {
      "cell_type": "code",
      "execution_count": null,
      "id": "14363662",
      "metadata": {
        "id": "14363662",
        "outputId": "5021eb72-2a1e-4e43-dbce-06b7f134fe8c"
      },
      "outputs": [
        {
          "name": "stdout",
          "output_type": "stream",
          "text": [
            "[3.333336114883423, 3.333336114883423, 0.0, 0.0, 3.333336114883423]\n",
            "[0, 4, 2, 3, 0]\n"
          ]
        }
      ],
      "source": [
        "select_parents(Cost_Value)                \n"
      ]
    },
    {
      "cell_type": "code",
      "execution_count": null,
      "id": "061c8dfc",
      "metadata": {
        "id": "061c8dfc",
        "outputId": "2922fa08-1dbe-4548-a935-02eb054e95fe"
      },
      "outputs": [
        {
          "name": "stdout",
          "output_type": "stream",
          "text": [
            "c_index: [2, 3, 0, 4, 0]\n",
            "index_e: [0 1 2 3]\n",
            "chromosome2\n",
            "index_e: [3 0 2 1]\n",
            "chromosome2\n",
            "index_e: [2 3 0 1]\n",
            "chromosome2\n",
            "index_e: [0 1 2 3]\n",
            "chromosome2\n",
            "index_e: [0 1 2 3]\n",
            "chromosome2\n",
            "crossover for number of filters: [[45, 14, 12, 18], [58, 10, 12, 18], [66, 12, 34, 86], [66, 12, 34, 86], [35, 71, 50, 35]]\n",
            "crossover for size of filters: [[2, 4, 4, 4], [1, 4, 4, 4], [4, 1, 3, 1], [4, 1, 3, 1], [2, 1, 3, 1]]\n"
          ]
        }
      ],
      "source": [
        "crossover(c_index)     "
      ]
    },
    {
      "cell_type": "code",
      "execution_count": null,
      "id": "f72fb70b",
      "metadata": {
        "id": "f72fb70b"
      },
      "outputs": [],
      "source": [
        "mutated_nf=[]\n",
        "mutated_sf=[]   \n",
        "def mutation():\n",
        "    for i in range(0,len(child_nf)):\n",
        "        index_e =np.arange(4)                     \n",
        "        random.shuffle(index_e)\n",
        "        print(\"index_e:\",index_e)\n",
        "        c1=[None,None,None,None]\n",
        "        temp=child_nf[i][index_e[0]]\n",
        "       \n",
        "        del c1[index_e[0]]\n",
        "        c1.insert(index_e[0],child_nf[i][index_e[1]]) \n",
        "        del c1[index_e[1]]\n",
        "        c1.insert(index_e[1],temp )\n",
        "        del c1[index_e[2]]\n",
        "        c1.insert(index_e[2],child_nf[i][index_e[2]])\n",
        "        del c1[index_e[3]]\n",
        "        c1.insert(index_e[3],child_nf[i][index_e[3]])\n",
        "        \n",
        "        mutated_nf.append(c1)\n",
        "    print(mutated_nf) \n",
        "    \n",
        "    for i in range(0,len(child_sf)):\n",
        "        index_e =np.arange(4)                     \n",
        "        random.shuffle(index_e)\n",
        "        print(\"index_e:\",index_e)\n",
        "        \n",
        "        c2=[None,None,None,None]\n",
        "        temp=child_sf[i][index_e[0]]\n",
        "       \n",
        "        del c2[index_e[0]]\n",
        "        c2.insert(index_e[0],child_sf[i][index_e[1]]) \n",
        "        del c2[index_e[1]]\n",
        "        c2.insert(index_e[1],temp )\n",
        "        del c2[index_e[2]]\n",
        "        c2.insert(index_e[2],child_sf[i][index_e[2]])\n",
        "        del c2[index_e[3]]\n",
        "        c2.insert(index_e[3],child_sf[i][index_e[3]])\n",
        "        \n",
        "        mutated_sf.append(c2)\n",
        "    print(mutated_sf) \n",
        "       \n",
        "    \n",
        "    \n",
        "    "
      ]
    },
    {
      "cell_type": "code",
      "execution_count": null,
      "id": "2e26b45e",
      "metadata": {
        "id": "2e26b45e",
        "outputId": "12a2b8ab-51e4-4336-fae1-f5d859c53135"
      },
      "outputs": [
        {
          "name": "stdout",
          "output_type": "stream",
          "text": [
            "index_e: [1 2 0 3]\n",
            "index_e: [3 1 2 0]\n",
            "index_e: [0 3 2 1]\n",
            "index_e: [3 2 1 0]\n",
            "index_e: [1 0 2 3]\n",
            "[[45, 12, 14, 18], [58, 18, 12, 10], [86, 12, 34, 66], [66, 12, 86, 34], [71, 35, 50, 35]]\n",
            "index_e: [3 1 2 0]\n",
            "index_e: [0 2 1 3]\n",
            "index_e: [3 0 2 1]\n",
            "index_e: [3 2 1 0]\n",
            "index_e: [2 3 0 1]\n",
            "[[2, 4, 4, 4], [4, 4, 1, 4], [1, 1, 3, 4], [4, 1, 1, 3], [2, 1, 1, 3]]\n"
          ]
        }
      ],
      "source": [
        "mutation()\n"
      ]
    },
    {
      "cell_type": "code",
      "execution_count": null,
      "id": "5416fa14",
      "metadata": {
        "id": "5416fa14",
        "outputId": "40dc7420-fdf4-4e9c-b6e9-3f86747ee136"
      },
      "outputs": [
        {
          "name": "stdout",
          "output_type": "stream",
          "text": [
            "Found 240 images belonging to 3 classes.\n",
            "Found 60 images belonging to 3 classes.\n",
            "Epoch 1/3\n",
            "8/8 [==============================] - 2s 142ms/step - loss: 221704224.0000 - accuracy: 0.4708\n",
            "Epoch 2/3\n",
            "8/8 [==============================] - 1s 137ms/step - loss: 216053184.0000 - accuracy: 0.4417\n",
            "Epoch 3/3\n",
            "8/8 [==============================] - 1s 139ms/step - loss: 191070864.0000 - accuracy: 0.4375\n",
            "WARNING:tensorflow:6 out of the last 11 calls to <function Model.make_test_function.<locals>.test_function at 0x000002B9A5FFD550> triggered tf.function retracing. Tracing is expensive and the excessive number of tracings could be due to (1) creating @tf.function repeatedly in a loop, (2) passing tensors with different shapes, (3) passing Python objects instead of tensors. For (1), please define your @tf.function outside of the loop. For (2), @tf.function has experimental_relax_shapes=True option that relaxes argument shapes that can avoid unnecessary retracing. For (3), please refer to https://www.tensorflow.org/guide/function#controlling_retracing and https://www.tensorflow.org/api_docs/python/tf/function for  more details.\n",
            "2/2 [==============================] - 0s 47ms/step - loss: 173532432.0000 - accuracy: 0.4833\n",
            "Epoch 1/3\n",
            "8/8 [==============================] - 2s 161ms/step - loss: 220193424.0000 - accuracy: 0.3333\n",
            "Epoch 2/3\n",
            "8/8 [==============================] - 1s 176ms/step - loss: 209338832.0000 - accuracy: 0.3333\n",
            "Epoch 3/3\n",
            "8/8 [==============================] - 1s 173ms/step - loss: 195233984.0000 - accuracy: 0.3333\n",
            "2/2 [==============================] - 0s 50ms/step - loss: 190382688.0000 - accuracy: 0.3333\n",
            "Epoch 1/3\n",
            "8/8 [==============================] - 2s 169ms/step - loss: 217452096.0000 - accuracy: 0.3458\n",
            "Epoch 2/3\n",
            "8/8 [==============================] - 1s 159ms/step - loss: 197243424.0000 - accuracy: 0.3333\n",
            "Epoch 3/3\n",
            "8/8 [==============================] - 1s 153ms/step - loss: 148798288.0000 - accuracy: 0.6667\n",
            "2/2 [==============================] - 0s 73ms/step - loss: 75561552.0000 - accuracy: 0.9667\n",
            "Epoch 1/3\n",
            "8/8 [==============================] - 2s 144ms/step - loss: 219553504.0000 - accuracy: 0.4292\n",
            "Epoch 2/3\n",
            "8/8 [==============================] - 1s 140ms/step - loss: 199960160.0000 - accuracy: 0.3333\n",
            "Epoch 3/3\n",
            "8/8 [==============================] - 1s 137ms/step - loss: 170569024.0000 - accuracy: 0.5208\n",
            "2/2 [==============================] - 0s 52ms/step - loss: 168642624.0000 - accuracy: 0.8333\n",
            "Epoch 1/3\n",
            "8/8 [==============================] - 2s 135ms/step - loss: 221274528.0000 - accuracy: 0.3958\n",
            "Epoch 2/3\n",
            "8/8 [==============================] - 1s 140ms/step - loss: 212961024.0000 - accuracy: 0.3333\n",
            "Epoch 3/3\n",
            "8/8 [==============================] - 1s 139ms/step - loss: 197295888.0000 - accuracy: 0.3333\n",
            "2/2 [==============================] - 0s 63ms/step - loss: 183589520.0000 - accuracy: 0.3333\n",
            "cost_value: [3.333336114883423, 35.00000238418579, 3.333336114883423, 0.0, 36.666667461395264, 51.66666805744171, 66.66666567325592, 3.333336114883423, 16.66666865348816, 66.66666567325592]\n",
            "[[45 12 14 18]\n",
            " [58 18 12 10]\n",
            " [86 12 34 66]\n",
            " [66 12 86 34]\n",
            " [71 35 50 35]]\n",
            "[[2 4 4 4]\n",
            " [4 4 1 4]\n",
            " [1 1 3 4]\n",
            " [4 1 1 3]\n",
            " [2 1 1 3]]\n"
          ]
        },
        {
          "data": {
            "text/plain": [
              "[<matplotlib.lines.Line2D at 0x2b9a6821dc0>]"
            ]
          },
          "execution_count": 10,
          "metadata": {},
          "output_type": "execute_result"
        },
        {
          "data": {
            "image/png": "[encoded data removed]",
            "text/plain": [
              "<Figure size 432x288 with 1 Axes>"
            ]
          },
          "metadata": {
            "needs_background": "light"
          },
          "output_type": "display_data"
        }
      ],
      "source": [
        "a=np.array(mutated_nf)\n",
        "b=np.array(mutated_sf)\n",
        "fitness(a,b)\n",
        "print(a)\n",
        "print(b)\n",
        "plt.plot(Cost_Value)"
      ]
    },
    {
      "cell_type": "code",
      "execution_count": null,
      "id": "3af3f19e",
      "metadata": {
        "id": "3af3f19e",
        "outputId": "bc2c9684-a441-48e9-8d4b-ebaf612b3eb8"
      },
      "outputs": [
        {
          "name": "stdout",
          "output_type": "stream",
          "text": [
            "c_index: [3, 0, 4, 0, 2]\n",
            "index_e: [3 0 2 1]\n",
            "chromosome2\n",
            "index_e: [2 3 1 0]\n",
            "chromosome2\n",
            "index_e: [1 2 3 0]\n",
            "chromosome2\n",
            "index_e: [2 1 3 0]\n",
            "chromosome2\n",
            "index_e: [0 2 1 3]\n",
            "chromosome2\n",
            "crossover for number of filters: [[45, 14, 12, 18], [58, 10, 12, 18], [66, 12, 34, 86], [66, 12, 34, 86], [35, 71, 50, 35], [58, 10, 12, 18], [66, 12, 34, 86], [35, 12, 41, 86], [45, 71, 34, 35], [45, 14, 50, 18]]\n",
            "crossover for size of filters: [[2, 4, 4, 4], [1, 4, 4, 4], [4, 1, 3, 1], [4, 1, 3, 1], [2, 1, 3, 1], [1, 4, 4, 4], [4, 1, 3, 1], [2, 1, 3, 1], [2, 1, 3, 1], [2, 4, 3, 4]]\n",
            "[3.333336114883423, 3.333336114883423, 0.0, 0.0, 3.333336114883423, 3.333336114883423, 36.666667461395264, 51.66666805744171, 3.333336114883423, 0.0, 0.0, 16.66666865348816, 35.00000238418579, 3.333336114883423]\n",
            "[3, 0, 4, 0, 2, 7, 4, 5, 9, 2, 3, 8, 6, 7]\n",
            "index_e: [1 2 3 0]\n",
            "index_e: [1 2 0 3]\n",
            "index_e: [2 0 3 1]\n",
            "index_e: [0 1 3 2]\n",
            "index_e: [3 2 0 1]\n",
            "index_e: [0 3 2 1]\n",
            "index_e: [0 2 1 3]\n",
            "index_e: [0 1 3 2]\n",
            "index_e: [0 1 3 2]\n",
            "index_e: [1 2 3 0]\n",
            "[[45, 12, 14, 18], [58, 18, 12, 10], [86, 12, 34, 66], [66, 12, 86, 34], [71, 35, 50, 35], [45, 12, 14, 18], [58, 12, 10, 18], [34, 12, 66, 86], [12, 66, 34, 86], [35, 71, 35, 50], [18, 10, 12, 58], [34, 12, 66, 86], [12, 35, 41, 86], [71, 45, 34, 35], [45, 50, 14, 18]]\n",
            "index_e: [3 1 2 0]\n",
            "index_e: [0 2 1 3]\n",
            "index_e: [2 1 3 0]\n",
            "index_e: [0 1 3 2]\n",
            "index_e: [0 2 1 3]\n",
            "index_e: [2 3 0 1]\n",
            "index_e: [2 0 3 1]\n",
            "index_e: [3 2 1 0]\n",
            "index_e: [3 1 2 0]\n",
            "index_e: [1 0 2 3]\n",
            "[[2, 4, 4, 4], [4, 4, 1, 4], [1, 1, 3, 4], [4, 1, 1, 3], [2, 1, 1, 3], [2, 4, 4, 4], [4, 4, 1, 4], [4, 3, 1, 1], [1, 4, 3, 1], [3, 1, 2, 1], [1, 4, 4, 4], [3, 1, 4, 1], [2, 1, 1, 3], [2, 1, 3, 1], [4, 2, 3, 4]]\n",
            "Found 240 images belonging to 3 classes.\n",
            "Found 60 images belonging to 3 classes.\n",
            "Epoch 1/3\n",
            "8/8 [==============================] - 2s 156ms/step - loss: 220558064.0000 - accuracy: 0.3333\n",
            "Epoch 2/3\n",
            "8/8 [==============================] - 1s 168ms/step - loss: 213744912.0000 - accuracy: 0.3333\n",
            "Epoch 3/3\n",
            "8/8 [==============================] - 1s 139ms/step - loss: 196600720.0000 - accuracy: 0.3333\n",
            "2/2 [==============================] - 0s 55ms/step - loss: 180950624.0000 - accuracy: 0.3333\n",
            "Epoch 1/3\n",
            "8/8 [==============================] - 2s 174ms/step - loss: 221663152.0000 - accuracy: 0.3375\n",
            "Epoch 2/3\n",
            "8/8 [==============================] - 1s 176ms/step - loss: 217165728.0000 - accuracy: 0.3333\n",
            "Epoch 3/3\n",
            "8/8 [==============================] - 1s 178ms/step - loss: 200214512.0000 - accuracy: 0.3375\n",
            "2/2 [==============================] - 0s 50ms/step - loss: 195681344.0000 - accuracy: 0.3500\n",
            "Epoch 1/3\n",
            "8/8 [==============================] - 2s 163ms/step - loss: 220140848.0000 - accuracy: 0.4542\n",
            "Epoch 2/3\n",
            "8/8 [==============================] - 1s 157ms/step - loss: 203811904.0000 - accuracy: 0.4667\n",
            "Epoch 3/3\n",
            "8/8 [==============================] - 1s 154ms/step - loss: 155840240.0000 - accuracy: 0.6333\n",
            "2/2 [==============================] - 0s 60ms/step - loss: 115124872.0000 - accuracy: 0.6667\n",
            "Epoch 1/3\n",
            "8/8 [==============================] - 2s 160ms/step - loss: 218833072.0000 - accuracy: 0.3333\n",
            "Epoch 2/3\n",
            "8/8 [==============================] - 1s 141ms/step - loss: 214441440.0000 - accuracy: 0.3333\n",
            "Epoch 3/3\n",
            "8/8 [==============================] - 1s 145ms/step - loss: 200679904.0000 - accuracy: 0.3333\n",
            "2/2 [==============================] - 0s 56ms/step - loss: 193152608.0000 - accuracy: 0.3333\n",
            "Epoch 1/3\n",
            "8/8 [==============================] - 1s 132ms/step - loss: 221664704.0000 - accuracy: 0.3250\n",
            "Epoch 2/3\n",
            "8/8 [==============================] - 1s 136ms/step - loss: 217436512.0000 - accuracy: 0.3333\n",
            "Epoch 3/3\n",
            "8/8 [==============================] - 1s 135ms/step - loss: 205070320.0000 - accuracy: 0.3333\n",
            "2/2 [==============================] - 0s 50ms/step - loss: 193392608.0000 - accuracy: 0.3333\n",
            "Epoch 1/3\n",
            "8/8 [==============================] - 2s 140ms/step - loss: 219441008.0000 - accuracy: 0.5083\n",
            "Epoch 2/3\n",
            "8/8 [==============================] - 1s 142ms/step - loss: 203160784.0000 - accuracy: 0.4542\n",
            "Epoch 3/3\n",
            "8/8 [==============================] - 1s 145ms/step - loss: 156655200.0000 - accuracy: 0.6250\n",
            "2/2 [==============================] - 0s 43ms/step - loss: 114655152.0000 - accuracy: 0.6333\n",
            "Epoch 1/3\n",
            "8/8 [==============================] - 2s 162ms/step - loss: 222103376.0000 - accuracy: 0.3333\n",
            "Epoch 2/3\n",
            "8/8 [==============================] - 1s 164ms/step - loss: 220455088.0000 - accuracy: 0.4625\n",
            "Epoch 3/3\n",
            "8/8 [==============================] - 1s 161ms/step - loss: 213011984.0000 - accuracy: 0.4958\n",
            "2/2 [==============================] - 0s 46ms/step - loss: 200964400.0000 - accuracy: 0.6500\n",
            "Epoch 1/3\n",
            "8/8 [==============================] - 1s 122ms/step - loss: 218126688.0000 - accuracy: 0.3417\n",
            "Epoch 2/3\n",
            "8/8 [==============================] - 1s 125ms/step - loss: 196869600.0000 - accuracy: 0.3333\n",
            "Epoch 3/3\n",
            "8/8 [==============================] - 1s 127ms/step - loss: 159211104.0000 - accuracy: 0.5708\n",
            "2/2 [==============================] - 0s 45ms/step - loss: 102168848.0000 - accuracy: 0.7833\n",
            "Epoch 1/3\n",
            "8/8 [==============================] - 1s 124ms/step - loss: 217593856.0000 - accuracy: 0.5208\n",
            "Epoch 2/3\n",
            "8/8 [==============================] - 1s 115ms/step - loss: 168628784.0000 - accuracy: 0.8167\n",
            "Epoch 3/3\n",
            "8/8 [==============================] - 1s 118ms/step - loss: 62817580.0000 - accuracy: 0.9417: 0s - loss: 88175672.0000 - accuracy: 0\n",
            "2/2 [==============================] - 0s 42ms/step - loss: 23268330.0000 - accuracy: 0.9667\n",
            "Epoch 1/3\n",
            "8/8 [==============================] - 2s 128ms/step - loss: 218778560.0000 - accuracy: 0.2917\n",
            "Epoch 2/3\n",
            "8/8 [==============================] - 1s 130ms/step - loss: 207641360.0000 - accuracy: 0.3333\n",
            "Epoch 3/3\n",
            "3/8 [==========>...................] - ETA: 0s - loss: 197425408.0000 - accuracy: 0.3125"
          ]
        }
      ],
      "source": [
        "crossover(c_index) \n",
        "select_parents(Cost_Value) \n",
        "mutation()\n",
        "a=np.array(mutated_nf)\n",
        "b=np.array(mutated_sf)\n",
        "fitness(a,b)\n",
        "plt.plot(Cost_Value)"
      ]
    },
    {
      "cell_type": "code",
      "execution_count": null,
      "id": "f57d1958",
      "metadata": {
        "id": "f57d1958"
      },
      "outputs": [],
      "source": [
        "\n"
      ]
    },
    {
      "cell_type": "code",
      "execution_count": null,
      "id": "277734ba",
      "metadata": {
        "id": "277734ba"
      },
      "outputs": [],
      "source": [
        ""
      ]
    },
    {
      "cell_type": "code",
      "execution_count": null,
      "id": "88ebad42",
      "metadata": {
        "id": "88ebad42"
      },
      "outputs": [],
      "source": [
        ""
      ]
    }
  ],
  "metadata": {
    "kernelspec": {
      "display_name": "Python 3 (ipykernel)",
      "language": "python",
      "name": "python3"
    },
    "language_info": {
      "codemirror_mode": {
        "name": "ipython",
        "version": 3
      },
      "file_extension": ".py",
      "mimetype": "text/x-python",
      "name": "python",
      "nbconvert_exporter": "python",
      "pygments_lexer": "ipython3",
      "version": "3.9.0"
    },
    "colab": {
      "name": "FaceRecognitionwithGeneticAlgorithm.ipynb",
      "provenance": []
    }
  },
  "nbformat": 4,
  "nbformat_minor": 5
}